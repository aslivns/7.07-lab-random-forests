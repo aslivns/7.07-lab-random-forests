{
 "cells": [
  {
   "cell_type": "code",
   "execution_count": 1,
   "id": "043b6535",
   "metadata": {},
   "outputs": [],
   "source": [
    "import pandas as pd\n",
    "import numpy as np\n",
    "from sklearn.model_selection import cross_val_score\n",
    "from sklearn.model_selection import train_test_split\n",
    "import warnings\n",
    "warnings.filterwarnings('ignore')"
   ]
  },
  {
   "cell_type": "code",
   "execution_count": 2,
   "id": "83ac8534",
   "metadata": {},
   "outputs": [],
   "source": [
    "categorical = pd.read_csv('categorical.csv')\n",
    "numerical = pd.read_csv('numerical.csv')\n",
    "targets = pd.read_csv('target.csv')"
   ]
  },
  {
   "cell_type": "markdown",
   "id": "a558299b",
   "metadata": {},
   "source": [
    "- Yesterday I use Variance Treshold and Kbest to choose my features\n",
    "- I will apply the result of variance treshold below"
   ]
  },
  {
   "cell_type": "markdown",
   "id": "f070c7da",
   "metadata": {},
   "source": [
    "#### categoricals"
   ]
  },
  {
   "cell_type": "code",
   "execution_count": 3,
   "id": "e4cdab18",
   "metadata": {},
   "outputs": [],
   "source": [
    "categorical = categorical.drop(columns=['ODATEW_YR', 'ODATEW_MM', 'DOB_YR',\n",
    "       'DOB_MM', 'MINRDATE_YR', 'MAXRDATE_YR',\n",
    "       'LASTDATE_YR', 'MAXRDATE_MM','MINRDATE_MM', 'FIRSTDATE_YR', 'FIRSTDATE_MM'], axis=1)"
   ]
  },
  {
   "cell_type": "code",
   "execution_count": 4,
   "id": "cc877859",
   "metadata": {},
   "outputs": [],
   "source": [
    "categorical = categorical.applymap(str)"
   ]
  },
  {
   "cell_type": "code",
   "execution_count": 5,
   "id": "dc84becd",
   "metadata": {},
   "outputs": [
    {
     "data": {
      "text/html": [
       "<div>\n",
       "<style scoped>\n",
       "    .dataframe tbody tr th:only-of-type {\n",
       "        vertical-align: middle;\n",
       "    }\n",
       "\n",
       "    .dataframe tbody tr th {\n",
       "        vertical-align: top;\n",
       "    }\n",
       "\n",
       "    .dataframe thead th {\n",
       "        text-align: right;\n",
       "    }\n",
       "</style>\n",
       "<table border=\"1\" class=\"dataframe\">\n",
       "  <thead>\n",
       "    <tr style=\"text-align: right;\">\n",
       "      <th></th>\n",
       "      <th>STATE</th>\n",
       "      <th>CLUSTER</th>\n",
       "      <th>HOMEOWNR</th>\n",
       "      <th>GENDER</th>\n",
       "      <th>DATASRCE</th>\n",
       "      <th>RFA_2R</th>\n",
       "      <th>RFA_2A</th>\n",
       "      <th>GEOCODE2</th>\n",
       "      <th>DOMAIN_A</th>\n",
       "      <th>DOMAIN_B</th>\n",
       "      <th>LASTDATE_MM</th>\n",
       "    </tr>\n",
       "  </thead>\n",
       "  <tbody>\n",
       "    <tr>\n",
       "      <th>0</th>\n",
       "      <td>IL</td>\n",
       "      <td>36</td>\n",
       "      <td>H</td>\n",
       "      <td>F</td>\n",
       "      <td>3</td>\n",
       "      <td>L</td>\n",
       "      <td>E</td>\n",
       "      <td>C</td>\n",
       "      <td>T</td>\n",
       "      <td>2</td>\n",
       "      <td>12</td>\n",
       "    </tr>\n",
       "    <tr>\n",
       "      <th>1</th>\n",
       "      <td>CA</td>\n",
       "      <td>14</td>\n",
       "      <td>H</td>\n",
       "      <td>M</td>\n",
       "      <td>3</td>\n",
       "      <td>L</td>\n",
       "      <td>G</td>\n",
       "      <td>A</td>\n",
       "      <td>S</td>\n",
       "      <td>1</td>\n",
       "      <td>12</td>\n",
       "    </tr>\n",
       "    <tr>\n",
       "      <th>2</th>\n",
       "      <td>NC</td>\n",
       "      <td>43</td>\n",
       "      <td>U</td>\n",
       "      <td>M</td>\n",
       "      <td>3</td>\n",
       "      <td>L</td>\n",
       "      <td>E</td>\n",
       "      <td>C</td>\n",
       "      <td>R</td>\n",
       "      <td>2</td>\n",
       "      <td>12</td>\n",
       "    </tr>\n",
       "    <tr>\n",
       "      <th>3</th>\n",
       "      <td>CA</td>\n",
       "      <td>44</td>\n",
       "      <td>U</td>\n",
       "      <td>F</td>\n",
       "      <td>3</td>\n",
       "      <td>L</td>\n",
       "      <td>E</td>\n",
       "      <td>C</td>\n",
       "      <td>R</td>\n",
       "      <td>2</td>\n",
       "      <td>12</td>\n",
       "    </tr>\n",
       "    <tr>\n",
       "      <th>4</th>\n",
       "      <td>FL</td>\n",
       "      <td>16</td>\n",
       "      <td>H</td>\n",
       "      <td>F</td>\n",
       "      <td>3</td>\n",
       "      <td>L</td>\n",
       "      <td>F</td>\n",
       "      <td>A</td>\n",
       "      <td>S</td>\n",
       "      <td>2</td>\n",
       "      <td>1</td>\n",
       "    </tr>\n",
       "  </tbody>\n",
       "</table>\n",
       "</div>"
      ],
      "text/plain": [
       "  STATE CLUSTER HOMEOWNR GENDER DATASRCE RFA_2R RFA_2A GEOCODE2 DOMAIN_A  \\\n",
       "0    IL      36        H      F        3      L      E        C        T   \n",
       "1    CA      14        H      M        3      L      G        A        S   \n",
       "2    NC      43        U      M        3      L      E        C        R   \n",
       "3    CA      44        U      F        3      L      E        C        R   \n",
       "4    FL      16        H      F        3      L      F        A        S   \n",
       "\n",
       "  DOMAIN_B LASTDATE_MM  \n",
       "0        2          12  \n",
       "1        1          12  \n",
       "2        2          12  \n",
       "3        2          12  \n",
       "4        2           1  "
      ]
     },
     "execution_count": 5,
     "metadata": {},
     "output_type": "execute_result"
    }
   ],
   "source": [
    "categorical.head()"
   ]
  },
  {
   "cell_type": "markdown",
   "id": "02791188",
   "metadata": {},
   "source": [
    "### numericals"
   ]
  },
  {
   "cell_type": "code",
   "execution_count": 6,
   "id": "2d349934",
   "metadata": {},
   "outputs": [],
   "source": [
    "cols = ['AGE', 'INCOME', 'WEALTH1', 'VIETVETS', 'WWIIVETS', 'WEALTH2',\n",
    "       'POP90C1', 'POP90C2', 'POP90C3', 'ETH1', 'ETH2', 'HHN3', 'DW1', 'DW2',\n",
    "       'DW4', 'DW5', 'DW6', 'HV1', 'HV2', 'HV3', 'HV4', 'HU1', 'HU2', 'HU5',\n",
    "       'HHD2', 'HHD3', 'HHD5', 'ETHC2', 'HVP1', 'HVP2', 'HVP3', 'HVP4', 'HVP5',\n",
    "       'HVP6', 'HUR2', 'HUPA2', 'HUPA3', 'HUPA6', 'RP1', 'RP2', 'RP3', 'RP4',\n",
    "       'MSA', 'ADI', 'IC6', 'HHAS3', 'MC1', 'MC2', 'PEC2', 'TPE13', 'LFC2',\n",
    "       'LFC4', 'LFC6', 'LFC7', 'LFC8', 'LFC9', 'VC1', 'VC3', 'POBC2', 'LSC1',\n",
    "       'VOC2', 'HC2', 'HC4', 'HC5', 'HC6', 'HC7', 'HC8', 'HC11', 'HC13',\n",
    "       'HC17', 'HC18', 'HC19', 'MHUC1', 'MHUC2', 'CARDPROM', 'CONTROLN',\n",
    "       'HPHONE_D', 'RFA_2F', 'CLUSTER2']"
   ]
  },
  {
   "cell_type": "code",
   "execution_count": 7,
   "id": "024c60fc",
   "metadata": {},
   "outputs": [],
   "source": [
    "numerical = numerical.loc[:, cols]"
   ]
  },
  {
   "cell_type": "code",
   "execution_count": 8,
   "id": "be702c44",
   "metadata": {},
   "outputs": [],
   "source": [
    "numerical[cols] = numerical[cols].apply(pd.to_numeric, errors='coerce', axis=1)"
   ]
  },
  {
   "cell_type": "code",
   "execution_count": 9,
   "id": "63f1b1c2",
   "metadata": {},
   "outputs": [
    {
     "data": {
      "text/html": [
       "<div>\n",
       "<style scoped>\n",
       "    .dataframe tbody tr th:only-of-type {\n",
       "        vertical-align: middle;\n",
       "    }\n",
       "\n",
       "    .dataframe tbody tr th {\n",
       "        vertical-align: top;\n",
       "    }\n",
       "\n",
       "    .dataframe thead th {\n",
       "        text-align: right;\n",
       "    }\n",
       "</style>\n",
       "<table border=\"1\" class=\"dataframe\">\n",
       "  <thead>\n",
       "    <tr style=\"text-align: right;\">\n",
       "      <th></th>\n",
       "      <th>STATE</th>\n",
       "      <th>CLUSTER</th>\n",
       "      <th>HOMEOWNR</th>\n",
       "      <th>GENDER</th>\n",
       "      <th>DATASRCE</th>\n",
       "      <th>RFA_2R</th>\n",
       "      <th>RFA_2A</th>\n",
       "      <th>GEOCODE2</th>\n",
       "      <th>DOMAIN_A</th>\n",
       "      <th>DOMAIN_B</th>\n",
       "      <th>...</th>\n",
       "      <th>HC19</th>\n",
       "      <th>MHUC1</th>\n",
       "      <th>MHUC2</th>\n",
       "      <th>CARDPROM</th>\n",
       "      <th>CONTROLN</th>\n",
       "      <th>HPHONE_D</th>\n",
       "      <th>RFA_2F</th>\n",
       "      <th>CLUSTER2</th>\n",
       "      <th>TARGET_B</th>\n",
       "      <th>TARGET_D</th>\n",
       "    </tr>\n",
       "  </thead>\n",
       "  <tbody>\n",
       "    <tr>\n",
       "      <th>0</th>\n",
       "      <td>IL</td>\n",
       "      <td>36</td>\n",
       "      <td>H</td>\n",
       "      <td>F</td>\n",
       "      <td>3</td>\n",
       "      <td>L</td>\n",
       "      <td>E</td>\n",
       "      <td>C</td>\n",
       "      <td>T</td>\n",
       "      <td>2</td>\n",
       "      <td>...</td>\n",
       "      <td>40.0</td>\n",
       "      <td>6.0</td>\n",
       "      <td>2.0</td>\n",
       "      <td>27.0</td>\n",
       "      <td>95515.0</td>\n",
       "      <td>0.0</td>\n",
       "      <td>4.0</td>\n",
       "      <td>39.0</td>\n",
       "      <td>0</td>\n",
       "      <td>0.0</td>\n",
       "    </tr>\n",
       "    <tr>\n",
       "      <th>1</th>\n",
       "      <td>CA</td>\n",
       "      <td>14</td>\n",
       "      <td>H</td>\n",
       "      <td>M</td>\n",
       "      <td>3</td>\n",
       "      <td>L</td>\n",
       "      <td>G</td>\n",
       "      <td>A</td>\n",
       "      <td>S</td>\n",
       "      <td>1</td>\n",
       "      <td>...</td>\n",
       "      <td>99.0</td>\n",
       "      <td>20.0</td>\n",
       "      <td>4.0</td>\n",
       "      <td>12.0</td>\n",
       "      <td>148535.0</td>\n",
       "      <td>0.0</td>\n",
       "      <td>2.0</td>\n",
       "      <td>1.0</td>\n",
       "      <td>0</td>\n",
       "      <td>0.0</td>\n",
       "    </tr>\n",
       "    <tr>\n",
       "      <th>2</th>\n",
       "      <td>NC</td>\n",
       "      <td>43</td>\n",
       "      <td>U</td>\n",
       "      <td>M</td>\n",
       "      <td>3</td>\n",
       "      <td>L</td>\n",
       "      <td>E</td>\n",
       "      <td>C</td>\n",
       "      <td>R</td>\n",
       "      <td>2</td>\n",
       "      <td>...</td>\n",
       "      <td>17.0</td>\n",
       "      <td>9.0</td>\n",
       "      <td>2.0</td>\n",
       "      <td>26.0</td>\n",
       "      <td>15078.0</td>\n",
       "      <td>1.0</td>\n",
       "      <td>4.0</td>\n",
       "      <td>60.0</td>\n",
       "      <td>0</td>\n",
       "      <td>0.0</td>\n",
       "    </tr>\n",
       "    <tr>\n",
       "      <th>3</th>\n",
       "      <td>CA</td>\n",
       "      <td>44</td>\n",
       "      <td>U</td>\n",
       "      <td>F</td>\n",
       "      <td>3</td>\n",
       "      <td>L</td>\n",
       "      <td>E</td>\n",
       "      <td>C</td>\n",
       "      <td>R</td>\n",
       "      <td>2</td>\n",
       "      <td>...</td>\n",
       "      <td>22.0</td>\n",
       "      <td>16.0</td>\n",
       "      <td>2.0</td>\n",
       "      <td>27.0</td>\n",
       "      <td>172556.0</td>\n",
       "      <td>1.0</td>\n",
       "      <td>4.0</td>\n",
       "      <td>41.0</td>\n",
       "      <td>0</td>\n",
       "      <td>0.0</td>\n",
       "    </tr>\n",
       "    <tr>\n",
       "      <th>4</th>\n",
       "      <td>FL</td>\n",
       "      <td>16</td>\n",
       "      <td>H</td>\n",
       "      <td>F</td>\n",
       "      <td>3</td>\n",
       "      <td>L</td>\n",
       "      <td>F</td>\n",
       "      <td>A</td>\n",
       "      <td>S</td>\n",
       "      <td>2</td>\n",
       "      <td>...</td>\n",
       "      <td>21.0</td>\n",
       "      <td>6.0</td>\n",
       "      <td>2.0</td>\n",
       "      <td>43.0</td>\n",
       "      <td>7112.0</td>\n",
       "      <td>1.0</td>\n",
       "      <td>2.0</td>\n",
       "      <td>26.0</td>\n",
       "      <td>0</td>\n",
       "      <td>0.0</td>\n",
       "    </tr>\n",
       "  </tbody>\n",
       "</table>\n",
       "<p>5 rows × 92 columns</p>\n",
       "</div>"
      ],
      "text/plain": [
       "  STATE CLUSTER HOMEOWNR GENDER DATASRCE RFA_2R RFA_2A GEOCODE2 DOMAIN_A  \\\n",
       "0    IL      36        H      F        3      L      E        C        T   \n",
       "1    CA      14        H      M        3      L      G        A        S   \n",
       "2    NC      43        U      M        3      L      E        C        R   \n",
       "3    CA      44        U      F        3      L      E        C        R   \n",
       "4    FL      16        H      F        3      L      F        A        S   \n",
       "\n",
       "  DOMAIN_B  ...  HC19  MHUC1  MHUC2  CARDPROM  CONTROLN  HPHONE_D  RFA_2F  \\\n",
       "0        2  ...  40.0    6.0    2.0      27.0   95515.0       0.0     4.0   \n",
       "1        1  ...  99.0   20.0    4.0      12.0  148535.0       0.0     2.0   \n",
       "2        2  ...  17.0    9.0    2.0      26.0   15078.0       1.0     4.0   \n",
       "3        2  ...  22.0   16.0    2.0      27.0  172556.0       1.0     4.0   \n",
       "4        2  ...  21.0    6.0    2.0      43.0    7112.0       1.0     2.0   \n",
       "\n",
       "   CLUSTER2  TARGET_B  TARGET_D  \n",
       "0      39.0         0       0.0  \n",
       "1       1.0         0       0.0  \n",
       "2      60.0         0       0.0  \n",
       "3      41.0         0       0.0  \n",
       "4      26.0         0       0.0  \n",
       "\n",
       "[5 rows x 92 columns]"
      ]
     },
     "execution_count": 9,
     "metadata": {},
     "output_type": "execute_result"
    }
   ],
   "source": [
    "all_data = pd.concat((categorical,numerical,targets),axis=1)\n",
    "all_data.head()"
   ]
  },
  {
   "cell_type": "code",
   "execution_count": 10,
   "id": "c209f1dc",
   "metadata": {},
   "outputs": [],
   "source": [
    "# going to drop TARGET_D column for today\n",
    "data = all_data.drop(columns=['TARGET_D'], axis=1)"
   ]
  },
  {
   "cell_type": "markdown",
   "id": "0976bfe5",
   "metadata": {},
   "source": [
    "- I know there is imbalance in the data, I will oversample it\n",
    "- I will oversample only my train set"
   ]
  },
  {
   "cell_type": "code",
   "execution_count": 11,
   "id": "927174d3",
   "metadata": {},
   "outputs": [],
   "source": [
    "# X/y split\n",
    "X = data.drop('TARGET_B',axis = 1)\n",
    "y = data['TARGET_B']"
   ]
  },
  {
   "cell_type": "code",
   "execution_count": 12,
   "id": "e4ed1262",
   "metadata": {},
   "outputs": [],
   "source": [
    "# train-test-split \n",
    "from sklearn.model_selection import train_test_split\n",
    "X_train, X_test, y_train, y_test = train_test_split(X, y, random_state=0) # default fraction is .2"
   ]
  },
  {
   "cell_type": "code",
   "execution_count": 13,
   "id": "ecb5adbf",
   "metadata": {},
   "outputs": [],
   "source": [
    "X_train_imb = pd.DataFrame(X_train)"
   ]
  },
  {
   "cell_type": "code",
   "execution_count": 14,
   "id": "8f287377",
   "metadata": {},
   "outputs": [],
   "source": [
    "trainset = pd.concat((X_train, y_train), axis=1)"
   ]
  },
  {
   "cell_type": "code",
   "execution_count": 15,
   "id": "f7ce42a1",
   "metadata": {},
   "outputs": [
    {
     "data": {
      "text/plain": [
       "0    67970\n",
       "1     3589\n",
       "Name: TARGET_B, dtype: int64"
      ]
     },
     "execution_count": 15,
     "metadata": {},
     "output_type": "execute_result"
    }
   ],
   "source": [
    "trainset['TARGET_B'].value_counts()"
   ]
  },
  {
   "cell_type": "markdown",
   "id": "46f03a0b",
   "metadata": {},
   "source": [
    "- oversampling the train data"
   ]
  },
  {
   "cell_type": "code",
   "execution_count": 16,
   "id": "5e1ff8d0",
   "metadata": {},
   "outputs": [],
   "source": [
    "from sklearn.utils import resample\n",
    "\n",
    "category_0 = trainset[trainset['TARGET_B'] == 0]\n",
    "category_1 = trainset[trainset['TARGET_B'] == 1]"
   ]
  },
  {
   "cell_type": "code",
   "execution_count": 17,
   "id": "dcd50786",
   "metadata": {},
   "outputs": [],
   "source": [
    "category_1_oversampled = resample(category_1, \n",
    "                                  replace=True, \n",
    "                                  n_samples = len(category_0))"
   ]
  },
  {
   "cell_type": "code",
   "execution_count": 18,
   "id": "be5e3e6a",
   "metadata": {},
   "outputs": [],
   "source": [
    "train_upsampled = pd.concat([category_1_oversampled, category_0], axis=0)"
   ]
  },
  {
   "cell_type": "markdown",
   "id": "1378f20d",
   "metadata": {},
   "source": [
    "- above my train upsampled data is in an order, I will mix them below\n",
    "- because I will do cross validatyion in future"
   ]
  },
  {
   "cell_type": "code",
   "execution_count": 19,
   "id": "876b1000",
   "metadata": {},
   "outputs": [],
   "source": [
    "train_upsampled = train_upsampled.sample(frac =1)"
   ]
  },
  {
   "cell_type": "code",
   "execution_count": 20,
   "id": "bc5b2762",
   "metadata": {},
   "outputs": [
    {
     "data": {
      "text/plain": [
       "0    67970\n",
       "1    67970\n",
       "Name: TARGET_B, dtype: int64"
      ]
     },
     "execution_count": 20,
     "metadata": {},
     "output_type": "execute_result"
    }
   ],
   "source": [
    "train_upsampled['TARGET_B'].value_counts()"
   ]
  },
  {
   "cell_type": "markdown",
   "id": "43ccfd52",
   "metadata": {},
   "source": [
    "- now again I will do X-y split to my trainset because I will one hot encode my categoricals and scale numericals\n",
    "- I don't need to scale numericals for Random Forest but I will try logistic regression model too, so preferred to do it now"
   ]
  },
  {
   "cell_type": "code",
   "execution_count": 21,
   "id": "893fdf31",
   "metadata": {},
   "outputs": [],
   "source": [
    "X_train = train_upsampled.drop('TARGET_B',axis = 1)\n",
    "y_train = train_upsampled['TARGET_B']"
   ]
  },
  {
   "cell_type": "code",
   "execution_count": 22,
   "id": "9442db66",
   "metadata": {},
   "outputs": [],
   "source": [
    "X_train = pd.DataFrame(X_train)\n",
    "X_test = pd.DataFrame(X_test)"
   ]
  },
  {
   "cell_type": "code",
   "execution_count": 23,
   "id": "6b76e507",
   "metadata": {},
   "outputs": [],
   "source": [
    "#splitting into categorical and numerical\n",
    "X_train_num = X_train.select_dtypes(include = np.number)\n",
    "X_train_cat = X_train.select_dtypes(include = object)\n",
    "\n",
    "X_test_num = X_test.select_dtypes(include = np.number)\n",
    "X_test_cat = X_test.select_dtypes(include = object)"
   ]
  },
  {
   "cell_type": "markdown",
   "id": "76346c70",
   "metadata": {},
   "source": [
    "- for both scaling and encoding, I will fit it to my train set, use the same transformer to my test set"
   ]
  },
  {
   "cell_type": "code",
   "execution_count": 24,
   "id": "cd8c5776",
   "metadata": {},
   "outputs": [],
   "source": [
    "#scale numericals\n",
    "from sklearn.preprocessing import MinMaxScaler\n",
    "\n",
    "transformer = MinMaxScaler().fit(X_train_num) \n",
    "numericals_train_scaled = transformer.transform(X_train_num)\n",
    "numericals_test_scaled = transformer.transform(X_test_num)"
   ]
  },
  {
   "cell_type": "code",
   "execution_count": 25,
   "id": "b233b5a9",
   "metadata": {},
   "outputs": [],
   "source": [
    "#encode categoricals\n",
    "from sklearn.preprocessing import OneHotEncoder\n",
    "\n",
    "encoder = OneHotEncoder(handle_unknown='error', drop='first').fit(X_train_cat)\n",
    "categoricals_train_encoded = encoder.transform(X_train_cat).toarray()\n",
    "categoricals_test_encoded = encoder.transform(X_test_cat).toarray()"
   ]
  },
  {
   "cell_type": "code",
   "execution_count": 26,
   "id": "097cf128",
   "metadata": {},
   "outputs": [],
   "source": [
    "X_train = np.concatenate((numericals_train_scaled,categoricals_train_encoded),axis=1)\n",
    "X_test = np.concatenate((numericals_test_scaled,categoricals_test_encoded),axis=1)"
   ]
  },
  {
   "cell_type": "markdown",
   "id": "b2f89af6",
   "metadata": {},
   "source": [
    "- I will make a logistic regression model"
   ]
  },
  {
   "cell_type": "code",
   "execution_count": 27,
   "id": "f226e11a",
   "metadata": {},
   "outputs": [
    {
     "data": {
      "text/plain": [
       "0.6079319163207982"
      ]
     },
     "execution_count": 27,
     "metadata": {},
     "output_type": "execute_result"
    }
   ],
   "source": [
    "from sklearn.linear_model import LogisticRegression\n",
    "\n",
    "LR = LogisticRegression(random_state=0, solver='saga')\n",
    "LR.fit(X_train, y_train)\n",
    "LR.score(X_test, y_test) "
   ]
  },
  {
   "cell_type": "code",
   "execution_count": 28,
   "id": "080620cc",
   "metadata": {},
   "outputs": [
    {
     "data": {
      "text/plain": [
       "array([[13824,  8775],\n",
       "       [  577,   677]], dtype=int64)"
      ]
     },
     "execution_count": 28,
     "metadata": {},
     "output_type": "execute_result"
    }
   ],
   "source": [
    "pred = LR.predict(X_test)\n",
    "from sklearn.metrics import confusion_matrix\n",
    "confusion_matrix(y_test,pred)"
   ]
  },
  {
   "cell_type": "code",
   "execution_count": 29,
   "id": "02fd0193",
   "metadata": {},
   "outputs": [
    {
     "name": "stdout",
     "output_type": "stream",
     "text": [
      "precision:  0.07162505289885739\n",
      "recall:  0.539872408293461\n",
      "f1:  0.12647113767980572\n"
     ]
    }
   ],
   "source": [
    "from sklearn.metrics import precision_score\n",
    "from sklearn.metrics import recall_score\n",
    "from sklearn.metrics import f1_score\n",
    "\n",
    "\n",
    "print(\"precision: \",precision_score(y_test,pred))    # true pos / true pos+false pos\n",
    "print(\"recall: \",recall_score(y_test,pred))    #recall is most important, true pos/true pos + false neg\n",
    "print(\"f1: \",f1_score(y_test,pred))"
   ]
  },
  {
   "cell_type": "markdown",
   "id": "ed463b84",
   "metadata": {},
   "source": [
    "- I will make a RandomForestClassifier model"
   ]
  },
  {
   "cell_type": "code",
   "execution_count": 30,
   "id": "b1314e19",
   "metadata": {},
   "outputs": [
    {
     "name": "stdout",
     "output_type": "stream",
     "text": [
      "0.6197734294541709\n",
      "0.5884794365488618\n"
     ]
    },
    {
     "data": {
      "text/plain": [
       "0    22599\n",
       "1     1254\n",
       "Name: TARGET_B, dtype: int64"
      ]
     },
     "metadata": {},
     "output_type": "display_data"
    },
    {
     "data": {
      "text/plain": [
       "array([[13333,  9266],\n",
       "       [  550,   704]], dtype=int64)"
      ]
     },
     "metadata": {},
     "output_type": "display_data"
    }
   ],
   "source": [
    "from sklearn.ensemble import RandomForestClassifier\n",
    "from sklearn.metrics import confusion_matrix\n",
    "\n",
    "clf = RandomForestClassifier(max_depth=5,\n",
    "                             min_samples_split=20,\n",
    "                             min_samples_leaf =20,\n",
    "                             max_samples=0.2,\n",
    "                             random_state = 42)\n",
    "clf.fit(X_train, y_train)\n",
    "print(clf.score(X_train, y_train))\n",
    "print(clf.score(X_test, y_test))\n",
    "\n",
    "y_pred = clf.predict(X_test)\n",
    "display(y_test.value_counts())\n",
    "display(confusion_matrix(y_test, y_pred))\n"
   ]
  },
  {
   "cell_type": "markdown",
   "id": "4a6ec651",
   "metadata": {},
   "source": [
    "- I cross validate my Random Forest Classifier\n",
    "- it is 0.61 on every group"
   ]
  },
  {
   "cell_type": "code",
   "execution_count": 31,
   "id": "1cb551f4",
   "metadata": {},
   "outputs": [],
   "source": [
    "from sklearn.model_selection import cross_validate\n",
    "\n",
    "results = cross_validate(clf,X_train, y_train, cv = 5)"
   ]
  },
  {
   "cell_type": "code",
   "execution_count": 32,
   "id": "8504593d",
   "metadata": {},
   "outputs": [
    {
     "name": "stdout",
     "output_type": "stream",
     "text": [
      "[0.6205679  0.61615419 0.61585994 0.61174047 0.61604384]\n",
      "0.6160732676180668\n"
     ]
    }
   ],
   "source": [
    "print(results['test_score'])\n",
    "print(results['test_score'].mean())"
   ]
  },
  {
   "cell_type": "markdown",
   "id": "3fa78273",
   "metadata": {},
   "source": [
    "- I will create a pipeline to compare my models"
   ]
  },
  {
   "cell_type": "code",
   "execution_count": 33,
   "id": "3861f1a4",
   "metadata": {},
   "outputs": [
    {
     "name": "stdout",
     "output_type": "stream",
     "text": [
      "{'RandomForestClassifier': 0.6168824481388848, 'Logistic Regression': 0.5968147712225982}\n"
     ]
    }
   ],
   "source": [
    "#complete the code here\n",
    "model1 = clf\n",
    "model2 = LR\n",
    "\n",
    "import numpy as np\n",
    "\n",
    "\n",
    "model_pipeline = [model1, model2]\n",
    "model_names = ['RandomForestClassifier', 'Logistic Regression']\n",
    "scores = {}\n",
    "for model, model_name in zip(model_pipeline, model_names):\n",
    "    mean_score = np.mean(cross_val_score(model, X_train, y_train, cv=10))\n",
    "    scores[model_name] = mean_score\n",
    "print(scores)"
   ]
  },
  {
   "cell_type": "code",
   "execution_count": null,
   "id": "24db9a7a",
   "metadata": {},
   "outputs": [],
   "source": []
  }
 ],
 "metadata": {
  "kernelspec": {
   "display_name": "Python 3 (ipykernel)",
   "language": "python",
   "name": "python3"
  },
  "language_info": {
   "codemirror_mode": {
    "name": "ipython",
    "version": 3
   },
   "file_extension": ".py",
   "mimetype": "text/x-python",
   "name": "python",
   "nbconvert_exporter": "python",
   "pygments_lexer": "ipython3",
   "version": "3.9.12"
  }
 },
 "nbformat": 4,
 "nbformat_minor": 5
}
